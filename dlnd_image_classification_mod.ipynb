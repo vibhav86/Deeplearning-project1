{
 "cells": [
  {
   "cell_type": "markdown",
   "metadata": {
    "collapsed": true
   },
   "source": [
    "# Image Classification\n",
    "In this project, you'll classify images from the [CIFAR-10 dataset](https://www.cs.toronto.edu/~kriz/cifar.html).  The dataset consists of airplanes, dogs, cats, and other objects. You'll preprocess the images, then train a convolutional neural network on all the samples. The images need to be normalized and the labels need to be one-hot encoded.  You'll get to apply what you learned and build a convolutional, max pooling, dropout, and fully connected layers.  At the end, you'll get to see your neural network's predictions on the sample images.\n",
    "## Get the Data\n",
    "Run the following cell to download the [CIFAR-10 dataset for python](https://www.cs.toronto.edu/~kriz/cifar-10-python.tar.gz)."
   ]
  },
  {
   "cell_type": "code",
   "execution_count": 2,
   "metadata": {},
   "outputs": [
    {
     "name": "stdout",
     "output_type": "stream",
     "text": [
      "All files found!\n"
     ]
    }
   ],
   "source": [
    "\"\"\"\n",
    "DON'T MODIFY ANYTHING IN THIS CELL THAT IS BELOW THIS LINE\n",
    "\"\"\"\n",
    "from urllib.request import urlretrieve\n",
    "from os.path import isfile, isdir\n",
    "from tqdm import tqdm\n",
    "import problem_unittests as tests\n",
    "import tarfile\n",
    "\n",
    "cifar10_dataset_folder_path = 'cifar-10-batches-py'\n",
    "\n",
    "# Use Floyd's cifar-10 dataset if present\n",
    "floyd_cifar10_location = '/cifar/cifar-10-python.tar.gz'\n",
    "if isfile(floyd_cifar10_location):\n",
    "    tar_gz_path = floyd_cifar10_location\n",
    "else:\n",
    "    tar_gz_path = 'cifar-10-python.tar.gz'\n",
    "\n",
    "class DLProgress(tqdm):\n",
    "    last_block = 0\n",
    "\n",
    "    def hook(self, block_num=1, block_size=1, total_size=None):\n",
    "        self.total = total_size\n",
    "        self.update((block_num - self.last_block) * block_size)\n",
    "        self.last_block = block_num\n",
    "\n",
    "if not isfile(tar_gz_path):\n",
    "    with DLProgress(unit='B', unit_scale=True, miniters=1, desc='CIFAR-10 Dataset') as pbar:\n",
    "        urlretrieve(\n",
    "            'https://www.cs.toronto.edu/~kriz/cifar-10-python.tar.gz',\n",
    "            tar_gz_path,\n",
    "            pbar.hook)\n",
    "\n",
    "if not isdir(cifar10_dataset_folder_path):\n",
    "    with tarfile.open(tar_gz_path) as tar:\n",
    "        tar.extractall()\n",
    "        tar.close()\n",
    "\n",
    "\n",
    "tests.test_folder_path(cifar10_dataset_folder_path)"
   ]
  },
  {
   "cell_type": "markdown",
   "metadata": {},
   "source": [
    "## Explore the Data\n",
    "The dataset is broken into batches to prevent your machine from running out of memory.  The CIFAR-10 dataset consists of 5 batches, named `data_batch_1`, `data_batch_2`, etc.. Each batch contains the labels and images that are one of the following:\n",
    "* airplane\n",
    "* automobile\n",
    "* bird\n",
    "* cat\n",
    "* deer\n",
    "* dog\n",
    "* frog\n",
    "* horse\n",
    "* ship\n",
    "* truck\n",
    "\n",
    "Understanding a dataset is part of making predictions on the data.  Play around with the code cell below by changing the `batch_id` and `sample_id`. The `batch_id` is the id for a batch (1-5). The `sample_id` is the id for a image and label pair in the batch.\n",
    "\n",
    "Ask yourself \"What are all possible labels?\", \"What is the range of values for the image data?\", \"Are the labels in order or random?\".  Answers to questions like these will help you preprocess the data and end up with better predictions."
   ]
  },
  {
   "cell_type": "code",
   "execution_count": 4,
   "metadata": {},
   "outputs": [
    {
     "name": "stdout",
     "output_type": "stream",
     "text": [
      "\n",
      "Stats of batch 2:\n",
      "Samples: 10000\n",
      "Label Counts: {0: 984, 1: 1007, 2: 1010, 3: 995, 4: 1010, 5: 988, 6: 1008, 7: 1026, 8: 987, 9: 985}\n",
      "First 20 Labels: [1, 6, 6, 8, 8, 3, 4, 6, 0, 6, 0, 3, 6, 6, 5, 4, 8, 3, 2, 6]\n",
      "\n",
      "Example of Image 200:\n",
      "Image - Min Value: 84 Max Value: 255\n",
      "Image - Shape: (32, 32, 3)\n",
      "Label - Label Id: 6 Name: frog\n"
     ]
    },
    {
     "data": {
      "image/png": "[encoded data removed]",
      "text/plain": [
       "<matplotlib.figure.Figure at 0x7f654628b080>"
      ]
     },
     "metadata": {
      "image/png": {
       "height": 250,
       "width": 253
      }
     },
     "output_type": "display_data"
    }
   ],
   "source": [
    "%matplotlib inline\n",
    "%config InlineBackend.figure_format = 'retina'\n",
    "\n",
    "import helper\n",
    "import numpy as np\n",
    "\n",
    "# Explore the dataset\n",
    "batch_id = 2\n",
    "sample_id = 200\n",
    "helper.display_stats(cifar10_dataset_folder_path, batch_id, sample_id)"
   ]
  },
  {
   "cell_type": "markdown",
   "metadata": {},
   "source": [
    "## Implement Preprocess Functions\n",
    "### Normalize\n",
    "In the cell below, implement the `normalize` function to take in image data, `x`, and return it as a normalized Numpy array. The values should be in the range of 0 to 1, inclusive.  The return object should be the same shape as `x`."
   ]
  },
  {
   "cell_type": "code",
   "execution_count": 5,
   "metadata": {},
   "outputs": [
    {
     "name": "stdout",
     "output_type": "stream",
     "text": [
      "Tests Passed\n"
     ]
    }
   ],
   "source": [
    "def normalize(x):\n",
    "    \"\"\"\n",
    "    Normalize a list of sample image data in the range of 0 to 1\n",
    "    : x: List of image data.  The image shape is (32, 32, 3)\n",
    "    : return: Numpy array of normalize data\n",
    "    \"\"\"\n",
    "    # TODO: Implement Function\n",
    "    return (x/256)\n",
    "\n",
    "\n",
    "\"\"\"\n",
    "DON'T MODIFY ANYTHING IN THIS CELL THAT IS BELOW THIS LINE\n",
    "\"\"\"\n",
    "tests.test_normalize(normalize)"
   ]
  },
  {
   "cell_type": "markdown",
   "metadata": {},
   "source": [
    "### One-hot encode\n",
    "Just like the previous code cell, you'll be implementing a function for preprocessing.  This time, you'll implement the `one_hot_encode` function. The input, `x`, are a list of labels.  Implement the function to return the list of labels as One-Hot encoded Numpy array.  The possible values for labels are 0 to 9. The one-hot encoding function should return the same encoding for each value between each call to `one_hot_encode`.  Make sure to save the map of encodings outside the function.\n",
    "\n",
    "Hint: Don't reinvent the wheel."
   ]
  },
  {
   "cell_type": "code",
   "execution_count": 6,
   "metadata": {},
   "outputs": [
    {
     "name": "stdout",
     "output_type": "stream",
     "text": [
      "Tests Passed\n"
     ]
    }
   ],
   "source": [
    "def one_hot_encode(x):\n",
    "    \"\"\"\n",
    "    One hot encode a list of sample labels. Return a one-hot encoded vector for each label.\n",
    "    : x: List of sample Labels\n",
    "    : return: Numpy array of one-hot encoded labels\n",
    "    \"\"\"\n",
    "    # TODO: Implement Function\n",
    "    xx = np.zeros((len(x), 10))\n",
    "    for i in range(len(x)):\n",
    "        xx[i,x[i]] = 1\n",
    "    return xx\n",
    "    \n",
    "\n",
    "\n",
    "\"\"\"\n",
    "DON'T MODIFY ANYTHING IN THIS CELL THAT IS BELOW THIS LINE\n",
    "\"\"\"\n",
    "tests.test_one_hot_encode(one_hot_encode)"
   ]
  },
  {
   "cell_type": "markdown",
   "metadata": {},
   "source": [
    "### Randomize Data\n",
    "As you saw from exploring the data above, the order of the samples are randomized.  It doesn't hurt to randomize it again, but you don't need to for this dataset."
   ]
  },
  {
   "cell_type": "markdown",
   "metadata": {},
   "source": [
    "## Preprocess all the data and save it\n",
    "Running the code cell below will preprocess all the CIFAR-10 data and save it to file. The code below also uses 10% of the training data for validation."
   ]
  },
  {
   "cell_type": "code",
   "execution_count": 7,
   "metadata": {
    "collapsed": true
   },
   "outputs": [],
   "source": [
    "\"\"\"\n",
    "DON'T MODIFY ANYTHING IN THIS CELL\n",
    "\"\"\"\n",
    "# Preprocess Training, Validation, and Testing Data\n",
    "helper.preprocess_and_save_data(cifar10_dataset_folder_path, normalize, one_hot_encode)"
   ]
  },
  {
   "cell_type": "markdown",
   "metadata": {},
   "source": [
    "# Check Point\n",
    "This is your first checkpoint.  If you ever decide to come back to this notebook or have to restart the notebook, you can start from here.  The preprocessed data has been saved to disk."
   ]
  },
  {
   "cell_type": "code",
   "execution_count": 8,
   "metadata": {
    "collapsed": true
   },
   "outputs": [],
   "source": [
    "\"\"\"\n",
    "DON'T MODIFY ANYTHING IN THIS CELL\n",
    "\"\"\"\n",
    "import pickle\n",
    "import problem_unittests as tests\n",
    "import helper\n",
    "\n",
    "# Load the Preprocessed Validation data\n",
    "valid_features, valid_labels = pickle.load(open('preprocess_validation.p', mode='rb'))"
   ]
  },
  {
   "cell_type": "markdown",
   "metadata": {},
   "source": [
    "## Build the network\n",
    "For the neural network, you'll build each layer into a function.  Most of the code you've seen has been outside of functions. To test your code more thoroughly, we require that you put each layer in a function.  This allows us to give you better feedback and test for simple mistakes using our unittests before you submit your project.\n",
    "\n",
    ">**Note:** If you're finding it hard to dedicate enough time for this course each week, we've provided a small shortcut to this part of the project. In the next couple of problems, you'll have the option to use classes from the [TensorFlow Layers](https://www.tensorflow.org/api_docs/python/tf/layers) or [TensorFlow Layers (contrib)](https://www.tensorflow.org/api_guides/python/contrib.layers) packages to build each layer, except the layers you build in the \"Convolutional and Max Pooling Layer\" section.  TF Layers is similar to Keras's and TFLearn's abstraction to layers, so it's easy to pickup.\n",
    "\n",
    ">However, if you would like to get the most out of this course, try to solve all the problems _without_ using anything from the TF Layers packages. You **can** still use classes from other packages that happen to have the same name as ones you find in TF Layers! For example, instead of using the TF Layers version of the `conv2d` class, [tf.layers.conv2d](https://www.tensorflow.org/api_docs/python/tf/layers/conv2d), you would want to use the TF Neural Network version of `conv2d`, [tf.nn.conv2d](https://www.tensorflow.org/api_docs/python/tf/nn/conv2d). \n",
    "\n",
    "Let's begin!\n",
    "\n",
    "### Input\n",
    "The neural network needs to read the image data, one-hot encoded labels, and dropout keep probability. Implement the following functions\n",
    "* Implement `neural_net_image_input`\n",
    " * Return a [TF Placeholder](https://www.tensorflow.org/api_docs/python/tf/placeholder)\n",
    " * Set the shape using `image_shape` with batch size set to `None`.\n",
    " * Name the TensorFlow placeholder \"x\" using the TensorFlow `name` parameter in the [TF Placeholder](https://www.tensorflow.org/api_docs/python/tf/placeholder).\n",
    "* Implement `neural_net_label_input`\n",
    " * Return a [TF Placeholder](https://www.tensorflow.org/api_docs/python/tf/placeholder)\n",
    " * Set the shape using `n_classes` with batch size set to `None`.\n",
    " * Name the TensorFlow placeholder \"y\" using the TensorFlow `name` parameter in the [TF Placeholder](https://www.tensorflow.org/api_docs/python/tf/placeholder).\n",
    "* Implement `neural_net_keep_prob_input`\n",
    " * Return a [TF Placeholder](https://www.tensorflow.org/api_docs/python/tf/placeholder) for dropout keep probability.\n",
    " * Name the TensorFlow placeholder \"keep_prob\" using the TensorFlow `name` parameter in the [TF Placeholder](https://www.tensorflow.org/api_docs/python/tf/placeholder).\n",
    "\n",
    "These names will be used at the end of the project to load your saved model.\n",
    "\n",
    "Note: `None` for shapes in TensorFlow allow for a dynamic size."
   ]
  },
  {
   "cell_type": "code",
   "execution_count": 9,
   "metadata": {},
   "outputs": [
    {
     "name": "stdout",
     "output_type": "stream",
     "text": [
      "Image Input Tests Passed.\n",
      "Label Input Tests Passed.\n",
      "Keep Prob Tests Passed.\n"
     ]
    }
   ],
   "source": [
    "import tensorflow as tf\n",
    "\n",
    "def neural_net_image_input(image_shape):\n",
    "    \"\"\"\n",
    "    Return a Tensor for a batch of image input\n",
    "    : image_shape: Shape of the images\n",
    "    : return: Tensor for image input.\n",
    "    \"\"\"\n",
    "    # TODO: Implement Function\n",
    "    x = tf.placeholder(\"float\", [None, image_shape[0], image_shape[1], image_shape[2]], name = \"x\")\n",
    "    return x\n",
    "\n",
    "\n",
    "def neural_net_label_input(n_classes):\n",
    "    \"\"\"\n",
    "    Return a Tensor for a batch of label input\n",
    "    : n_classes: Number of classes\n",
    "    : return: Tensor for label input.\n",
    "    \"\"\"\n",
    "    # TODO: Implement Function\n",
    "    y = tf.placeholder(\"float\", [None, n_classes], name = \"y\")\n",
    "    return y\n",
    "\n",
    "\n",
    "def neural_net_keep_prob_input():\n",
    "    \"\"\"\n",
    "    Return a Tensor for keep probability\n",
    "    : return: Tensor for keep probability.\n",
    "    \"\"\"\n",
    "    # TODO: Implement Function\n",
    "    return tf.placeholder(\"float\", None, name = \"keep_prob\")\n",
    "\n",
    "\n",
    "\"\"\"\n",
    "DON'T MODIFY ANYTHING IN THIS CELL THAT IS BELOW THIS LINE\n",
    "\"\"\"\n",
    "tf.reset_default_graph()\n",
    "tests.test_nn_image_inputs(neural_net_image_input)\n",
    "tests.test_nn_label_inputs(neural_net_label_input)\n",
    "tests.test_nn_keep_prob_inputs(neural_net_keep_prob_input)"
   ]
  },
  {
   "cell_type": "markdown",
   "metadata": {},
   "source": [
    "### Convolution and Max Pooling Layer\n",
    "Convolution layers have a lot of success with images. For this code cell, you should implement the function `conv2d_maxpool` to apply convolution then max pooling:\n",
    "* Create the weight and bias using `conv_ksize`, `conv_num_outputs` and the shape of `x_tensor`.\n",
    "* Apply a convolution to `x_tensor` using weight and `conv_strides`.\n",
    " * We recommend you use same padding, but you're welcome to use any padding.\n",
    "* Add bias\n",
    "* Add a nonlinear activation to the convolution.\n",
    "* Apply Max Pooling using `pool_ksize` and `pool_strides`.\n",
    " * We recommend you use same padding, but you're welcome to use any padding.\n",
    "\n",
    "**Note:** You **can't** use [TensorFlow Layers](https://www.tensorflow.org/api_docs/python/tf/layers) or [TensorFlow Layers (contrib)](https://www.tensorflow.org/api_guides/python/contrib.layers) for **this** layer, but you can still use TensorFlow's [Neural Network](https://www.tensorflow.org/api_docs/python/tf/nn) package. You may still use the shortcut option for all the **other** layers."
   ]
  },
  {
   "cell_type": "code",
   "execution_count": 10,
   "metadata": {},
   "outputs": [
    {
     "name": "stdout",
     "output_type": "stream",
     "text": [
      "Tests Passed\n"
     ]
    }
   ],
   "source": [
    "def conv2d_maxpool(x_tensor, conv_num_outputs, conv_ksize, conv_strides, pool_ksize, pool_strides):\n",
    "    \"\"\"\n",
    "    Apply convolution then max pooling to x_tensor\n",
    "    :param x_tensor: TensorFlow Tensor\n",
    "    :param conv_num_outputs: Number of outputs for the convolutional layer\n",
    "    :param conv_ksize: kernal size 2-D Tuple for the convolutional layer\n",
    "    :param conv_strides: Stride 2-D Tuple for convolution\n",
    "    :param pool_ksize: kernal size 2-D Tuple for pool\n",
    "    :param pool_strides: Stride 2-D Tuple for pool\n",
    "    : return: A tensor that represents convolution and max pooling of x_tensor\n",
    "    \"\"\"\n",
    "    # TODO: Implement Function\n",
    "    dim = x_tensor.get_shape().as_list()\n",
    "    Myshape = list(conv_ksize + (dim[-1],) + (conv_num_outputs,))\n",
    "    weights = tf.Variable(tf.truncated_normal(Myshape,0,0.1))\n",
    "    bias = tf.Variable(tf.zeros(conv_num_outputs))\n",
    "    # Apply Convolution\n",
    "    conv_layer = tf.nn.conv2d(x_tensor, weights, list((1,)+conv_strides+(1,)), 'SAME')\n",
    "    #conv_layer = tf.nn.conv2d(x_tensor, weight, strides=conv_strides, padding='SAME')\n",
    "    # Add bias\n",
    "    conv_layer = tf.nn.bias_add(conv_layer, bias)\n",
    "    #conv_layer = tf.nn.bias_add(conv_layer, bias)\n",
    "    # Apply activation function\n",
    "    conv_layer = tf.nn.relu(conv_layer)\n",
    "    \n",
    "    conv_layer = tf.nn.max_pool(conv_layer,ksize=[1] + list(pool_ksize) + [1],strides=[1] + list(pool_strides) + [1],padding='SAME')\n",
    "    ##conv_layer = tf.nn.relu(conv_layer)\n",
    "    ##conv_layer = tf.nn.max_pool(conv_layer,ksize=pool_ksize,strides=pool_strides,padding='SAME')\n",
    "    return conv_layer\n",
    "\n",
    "\n",
    "\"\"\"\n",
    "DON'T MODIFY ANYTHING IN THIS CELL THAT IS BELOW THIS LINE\n",
    "\"\"\"\n",
    "tests.test_con_pool(conv2d_maxpool)"
   ]
  },
  {
   "cell_type": "markdown",
   "metadata": {},
   "source": [
    "### Flatten Layer\n",
    "Implement the `flatten` function to change the dimension of `x_tensor` from a 4-D tensor to a 2-D tensor.  The output should be the shape (*Batch Size*, *Flattened Image Size*). Shortcut option: you can use classes from the [TensorFlow Layers](https://www.tensorflow.org/api_docs/python/tf/layers) or [TensorFlow Layers (contrib)](https://www.tensorflow.org/api_guides/python/contrib.layers) packages for this layer. For more of a challenge, only use other TensorFlow packages."
   ]
  },
  {
   "cell_type": "code",
   "execution_count": 11,
   "metadata": {},
   "outputs": [
    {
     "name": "stdout",
     "output_type": "stream",
     "text": [
      "Tests Passed\n"
     ]
    }
   ],
   "source": [
    "import numpy as np\n",
    "def flatten(x_tensor):\n",
    "    \"\"\"\n",
    "    Flatten x_tensor to (Batch Size, Flattened Image Size)\n",
    "    : x_tensor: A tensor of size (Batch Size, ...), where ... are the image dimensions.\n",
    "    : return: A tensor of size (Batch Size, Flattened Image Size).\n",
    "    \"\"\"\n",
    "    # TODO: Implement Function\n",
    "    dim = x_tensor.get_shape().as_list()\n",
    "    return (tf.reshape(x_tensor,[-1,np.prod(dim[1:])]))\n",
    "\n",
    "\n",
    "\"\"\"\n",
    "DON'T MODIFY ANYTHING IN THIS CELL THAT IS BELOW THIS LINE\n",
    "\"\"\"\n",
    "tests.test_flatten(flatten)"
   ]
  },
  {
   "cell_type": "markdown",
   "metadata": {},
   "source": [
    "### Fully-Connected Layer\n",
    "Implement the `fully_conn` function to apply a fully connected layer to `x_tensor` with the shape (*Batch Size*, *num_outputs*). Shortcut option: you can use classes from the [TensorFlow Layers](https://www.tensorflow.org/api_docs/python/tf/layers) or [TensorFlow Layers (contrib)](https://www.tensorflow.org/api_guides/python/contrib.layers) packages for this layer. For more of a challenge, only use other TensorFlow packages."
   ]
  },
  {
   "cell_type": "code",
   "execution_count": 12,
   "metadata": {},
   "outputs": [
    {
     "name": "stdout",
     "output_type": "stream",
     "text": [
      "Tests Passed\n"
     ]
    }
   ],
   "source": [
    "def fully_conn(x_tensor, num_outputs):\n",
    "    \"\"\"\n",
    "    Apply a fully connected layer to x_tensor using weight and bias\n",
    "    : x_tensor: A 2-D tensor where the first dimension is batch size.\n",
    "    : num_outputs: The number of output that the new tensor should be.\n",
    "    : return: A 2-D tensor where the second dimension is num_outputs.\n",
    "    \"\"\"\n",
    "    # TODO: Implement Function\n",
    "    dimension = x_tensor.get_shape().as_list()\n",
    "    Myshape = list( (dimension[-1],) + (num_outputs,))\n",
    "    weight = tf.Variable(tf.truncated_normal(Myshape,0,0.1))\n",
    "    bias = tf.Variable(tf.zeros(num_outputs))\n",
    "    return (tf.nn.relu(tf.add(tf.matmul(x_tensor,weight), bias)))\n",
    "\n",
    "\n",
    "\"\"\"\n",
    "DON'T MODIFY ANYTHING IN THIS CELL THAT IS BELOW THIS LINE\n",
    "\"\"\"\n",
    "tests.test_fully_conn(fully_conn)"
   ]
  },
  {
   "cell_type": "markdown",
   "metadata": {},
   "source": [
    "### Output Layer\n",
    "Implement the `output` function to apply a fully connected layer to `x_tensor` with the shape (*Batch Size*, *num_outputs*). Shortcut option: you can use classes from the [TensorFlow Layers](https://www.tensorflow.org/api_docs/python/tf/layers) or [TensorFlow Layers (contrib)](https://www.tensorflow.org/api_guides/python/contrib.layers) packages for this layer. For more of a challenge, only use other TensorFlow packages.\n",
    "\n",
    "**Note:** Activation, softmax, or cross entropy should **not** be applied to this."
   ]
  },
  {
   "cell_type": "code",
   "execution_count": 13,
   "metadata": {},
   "outputs": [
    {
     "name": "stdout",
     "output_type": "stream",
     "text": [
      "Tests Passed\n"
     ]
    }
   ],
   "source": [
    "def output(x_tensor, num_outputs):\n",
    "    \"\"\"\n",
    "    Apply a output layer to x_tensor using weight and bias\n",
    "    : x_tensor: A 2-D tensor where the first dimension is batch size.\n",
    "    : num_outputs: The number of output that the new tensor should be.\n",
    "    : return: A 2-D tensor where the second dimension is num_outputs.\n",
    "    \"\"\"\n",
    "    # TODO: Implement Function\n",
    "    dimension = x_tensor.get_shape().as_list()\n",
    "    Myshape = list( (dimension[-1],) + (num_outputs,))\n",
    "    weight = tf.Variable(tf.truncated_normal(Myshape,0,0.01))\n",
    "    bias = tf.Variable(tf.zeros(num_outputs))\n",
    "    return (tf.add(tf.matmul(x_tensor,weight), bias))\n",
    "\n",
    "\n",
    "\"\"\"\n",
    "DON'T MODIFY ANYTHING IN THIS CELL THAT IS BELOW THIS LINE\n",
    "\"\"\"\n",
    "tests.test_output(output)"
   ]
  },
  {
   "cell_type": "markdown",
   "metadata": {},
   "source": [
    "### Create Convolutional Model\n",
    "Implement the function `conv_net` to create a convolutional neural network model. The function takes in a batch of images, `x`, and outputs logits.  Use the layers you created above to create this model:\n",
    "\n",
    "* Apply 1, 2, or 3 Convolution and Max Pool layers\n",
    "* Apply a Flatten Layer\n",
    "* Apply 1, 2, or 3 Fully Connected Layers\n",
    "* Apply an Output Layer\n",
    "* Return the output\n",
    "* Apply [TensorFlow's Dropout](https://www.tensorflow.org/api_docs/python/tf/nn/dropout) to one or more layers in the model using `keep_prob`. "
   ]
  },
  {
   "cell_type": "code",
   "execution_count": 113,
   "metadata": {},
   "outputs": [
    {
     "name": "stdout",
     "output_type": "stream",
     "text": [
      "Neural Network Built!\n"
     ]
    }
   ],
   "source": [
    "def conv_net(x, keep_prob):\n",
    "    \"\"\"\n",
    "    Create a convolutional neural network model\n",
    "    : x: Placeholder tensor that holds image data.\n",
    "    : keep_prob: Placeholder tensor that hold dropout keep probability.\n",
    "    : return: Tensor that represents logits\n",
    "    \"\"\"\n",
    "    # TODO: Apply 1, 2, or 3 Convolution and Max Pool layers\n",
    "    #    Play around with different number of outputs, kernel size and stride\n",
    "    # Function Definition from Above:\n",
    "    #    conv2d_maxpool(x_tensor, conv_num_outputs, conv_ksize, conv_strides, pool_ksize, pool_strides)\n",
    "    model = conv2d_maxpool(x, conv_num_outputs=18, conv_ksize=(4,4), conv_strides=(1,1), pool_ksize=(4,4), pool_strides=(1,1))\n",
    "    model = tf.nn.dropout(model, keep_prob)\n",
    "    \n",
    "\n",
    "    # TODO: Apply a Flatten Layer\n",
    "    # Function Definition from Above:\n",
    "    #   flatten(x_tensor)\n",
    "    model = flatten(model)\n",
    "\n",
    "    # TODO: Apply 1, 2, or 3 Fully Connected Layers\n",
    "    #    Play around with different number of outputs\n",
    "    # Function Definition from Above:\n",
    "    #   fully_conn(x_tensor, num_outputs)\n",
    "    model = fully_conn(model,384)\n",
    "    model = tf.nn.dropout(model, keep_prob)\n",
    "    \n",
    "    # TODO: Apply an Output Layer\n",
    "    #    Set this to the number of classes\n",
    "    # Function Definition from Above:\n",
    "    #   output(x_tensor, num_outputs)\n",
    "    model = output(model,10)\n",
    "    \n",
    "    # TODO: return output\n",
    "    return (model)\n",
    "\n",
    "\n",
    "\"\"\"\n",
    "DON'T MODIFY ANYTHING IN THIS CELL THAT IS BELOW THIS LINE\n",
    "\"\"\"\n",
    "\n",
    "##############################\n",
    "## Build the Neural Network ##\n",
    "##############################\n",
    "\n",
    "# Remove previous weights, bias, inputs, etc..\n",
    "tf.reset_default_graph()\n",
    "\n",
    "# Inputs\n",
    "x = neural_net_image_input((32, 32, 3))\n",
    "y = neural_net_label_input(10)\n",
    "keep_prob = neural_net_keep_prob_input()\n",
    "\n",
    "# Model\n",
    "logits = conv_net(x, keep_prob)\n",
    "\n",
    "# Name logits Tensor, so that is can be loaded from disk after training\n",
    "logits = tf.identity(logits, name='logits')\n",
    "\n",
    "# Loss and Optimizer\n",
    "cost = tf.reduce_mean(tf.nn.softmax_cross_entropy_with_logits(logits=logits, labels=y))\n",
    "optimizer = tf.train.AdamOptimizer().minimize(cost)\n",
    "\n",
    "# Accuracy\n",
    "correct_pred = tf.equal(tf.argmax(logits, 1), tf.argmax(y, 1))\n",
    "accuracy = tf.reduce_mean(tf.cast(correct_pred, tf.float32), name='accuracy')\n",
    "\n",
    "tests.test_conv_net(conv_net)"
   ]
  },
  {
   "cell_type": "markdown",
   "metadata": {},
   "source": [
    "## Train the Neural Network\n",
    "### Single Optimization\n",
    "Implement the function `train_neural_network` to do a single optimization.  The optimization should use `optimizer` to optimize in `session` with a `feed_dict` of the following:\n",
    "* `x` for image input\n",
    "* `y` for labels\n",
    "* `keep_prob` for keep probability for dropout\n",
    "\n",
    "This function will be called for each batch, so `tf.global_variables_initializer()` has already been called.\n",
    "\n",
    "Note: Nothing needs to be returned. This function is only optimizing the neural network."
   ]
  },
  {
   "cell_type": "code",
   "execution_count": 114,
   "metadata": {},
   "outputs": [
    {
     "name": "stdout",
     "output_type": "stream",
     "text": [
      "Tests Passed\n"
     ]
    }
   ],
   "source": [
    "def train_neural_network(session, optimizer, keep_probability, feature_batch, label_batch):\n",
    "    \"\"\"\n",
    "    Optimize the session on a batch of images and labels\n",
    "    : session: Current TensorFlow session\n",
    "    : optimizer: TensorFlow optimizer function\n",
    "    : keep_probability: keep probability\n",
    "    : feature_batch: Batch of Numpy image data\n",
    "    : label_batch: Batch of Numpy label data\n",
    "    \"\"\"\n",
    "    # TODO: Implement Function\n",
    "    session.run(optimizer, feed_dict={x:feature_batch, y:label_batch, keep_prob:keep_probability})\n",
    "\n",
    "\n",
    "\"\"\"\n",
    "DON'T MODIFY ANYTHING IN THIS CELL THAT IS BELOW THIS LINE\n",
    "\"\"\"\n",
    "tests.test_train_nn(train_neural_network)"
   ]
  },
  {
   "cell_type": "markdown",
   "metadata": {},
   "source": [
    "### Show Stats\n",
    "Implement the function `print_stats` to print loss and validation accuracy.  Use the global variables `valid_features` and `valid_labels` to calculate validation accuracy.  Use a keep probability of `1.0` to calculate the loss and validation accuracy."
   ]
  },
  {
   "cell_type": "code",
   "execution_count": 115,
   "metadata": {
    "collapsed": true
   },
   "outputs": [],
   "source": [
    "def print_stats(session, feature_batch, label_batch, cost, accuracy):\n",
    "    \"\"\"\n",
    "    Print information about loss and validation accuracy\n",
    "    : session: Current TensorFlow session\n",
    "    : feature_batch: Batch of Numpy image data\n",
    "    : label_batch: Batch of Numpy label data\n",
    "    : cost: TensorFlow cost function\n",
    "    : accuracy: TensorFlow accuracy function\n",
    "    \"\"\"\n",
    "    # TODO: Implement Function\n",
    "    loss = session.run(cost, feed_dict={x:feature_batch, y:label_batch, keep_prob:1.0})\n",
    "    validation_acc = sess.run(accuracy, feed_dict={\n",
    "                x: valid_features,\n",
    "                y: valid_labels,\n",
    "                keep_prob: 1.})\n",
    "    print('Loss: {:>10.4f} Validation Accuracy: {:.6f}'.format(\n",
    "                loss,\n",
    "                validation_acc))"
   ]
  },
  {
   "cell_type": "markdown",
   "metadata": {},
   "source": [
    "### Hyperparameters\n",
    "Tune the following parameters:\n",
    "* Set `epochs` to the number of iterations until the network stops learning or start overfitting\n",
    "* Set `batch_size` to the highest number that your machine has memory for.  Most people set them to common sizes of memory:\n",
    " * 64\n",
    " * 128\n",
    " * 256\n",
    " * ...\n",
    "* Set `keep_probability` to the probability of keeping a node using dropout"
   ]
  },
  {
   "cell_type": "code",
   "execution_count": 124,
   "metadata": {
    "collapsed": true
   },
   "outputs": [],
   "source": [
    "# TODO: Tune Parameters\n",
    "epochs = 50\n",
    "batch_size = 64\n",
    "keep_probability = 0.55"
   ]
  },
  {
   "cell_type": "markdown",
   "metadata": {},
   "source": [
    "### Train on a Single CIFAR-10 Batch\n",
    "Instead of training the neural network on all the CIFAR-10 batches of data, let's use a single batch. This should save time while you iterate on the model to get a better accuracy.  Once the final validation accuracy is 50% or greater, run the model on all the data in the next section."
   ]
  },
  {
   "cell_type": "code",
   "execution_count": 125,
   "metadata": {},
   "outputs": [
    {
     "name": "stdout",
     "output_type": "stream",
     "text": [
      "Checking the Training on a Single Batch...\n",
      "Epoch  1, CIFAR-10 Batch 1:  Loss:     1.9522 Validation Accuracy: 0.391800\n",
      "Epoch  2, CIFAR-10 Batch 1:  Loss:     1.6371 Validation Accuracy: 0.486600\n",
      "Epoch  3, CIFAR-10 Batch 1:  Loss:     1.4563 Validation Accuracy: 0.525800\n",
      "Epoch  4, CIFAR-10 Batch 1:  Loss:     1.2745 Validation Accuracy: 0.540200\n",
      "Epoch  5, CIFAR-10 Batch 1:  Loss:     1.1942 Validation Accuracy: 0.551200\n",
      "Epoch  6, CIFAR-10 Batch 1:  Loss:     1.0597 Validation Accuracy: 0.561600\n",
      "Epoch  7, CIFAR-10 Batch 1:  Loss:     0.9306 Validation Accuracy: 0.573000\n",
      "Epoch  8, CIFAR-10 Batch 1:  Loss:     0.8536 Validation Accuracy: 0.568000\n",
      "Epoch  9, CIFAR-10 Batch 1:  Loss:     0.7061 Validation Accuracy: 0.582200\n",
      "Epoch 10, CIFAR-10 Batch 1:  Loss:     0.6609 Validation Accuracy: 0.589600\n",
      "Epoch 11, CIFAR-10 Batch 1:  Loss:     0.5856 Validation Accuracy: 0.588600\n",
      "Epoch 12, CIFAR-10 Batch 1:  Loss:     0.5335 Validation Accuracy: 0.588400\n",
      "Epoch 13, CIFAR-10 Batch 1:  Loss:     0.4269 Validation Accuracy: 0.590200\n",
      "Epoch 14, CIFAR-10 Batch 1:  Loss:     0.4038 Validation Accuracy: 0.590200\n",
      "Epoch 15, CIFAR-10 Batch 1:  Loss:     0.3538 Validation Accuracy: 0.582400\n",
      "Epoch 16, CIFAR-10 Batch 1:  Loss:     0.2856 Validation Accuracy: 0.595400\n",
      "Epoch 17, CIFAR-10 Batch 1:  Loss:     0.2640 Validation Accuracy: 0.594000\n",
      "Epoch 18, CIFAR-10 Batch 1:  Loss:     0.2337 Validation Accuracy: 0.600600\n",
      "Epoch 19, CIFAR-10 Batch 1:  Loss:     0.1869 Validation Accuracy: 0.599800\n",
      "Epoch 20, CIFAR-10 Batch 1:  Loss:     0.1367 Validation Accuracy: 0.593400\n",
      "Epoch 21, CIFAR-10 Batch 1:  Loss:     0.1541 Validation Accuracy: 0.603000\n",
      "Epoch 22, CIFAR-10 Batch 1:  Loss:     0.1377 Validation Accuracy: 0.598400\n",
      "Epoch 23, CIFAR-10 Batch 1:  Loss:     0.1441 Validation Accuracy: 0.600400\n",
      "Epoch 24, CIFAR-10 Batch 1:  Loss:     0.1103 Validation Accuracy: 0.601000\n",
      "Epoch 25, CIFAR-10 Batch 1:  Loss:     0.0843 Validation Accuracy: 0.598800\n",
      "Epoch 26, CIFAR-10 Batch 1:  Loss:     0.0861 Validation Accuracy: 0.590600\n",
      "Epoch 27, CIFAR-10 Batch 1:  Loss:     0.0902 Validation Accuracy: 0.599800\n",
      "Epoch 28, CIFAR-10 Batch 1:  Loss:     0.0593 Validation Accuracy: 0.601400\n",
      "Epoch 29, CIFAR-10 Batch 1:  Loss:     0.0563 Validation Accuracy: 0.604400\n",
      "Epoch 30, CIFAR-10 Batch 1:  Loss:     0.0540 Validation Accuracy: 0.603400\n",
      "Epoch 31, CIFAR-10 Batch 1:  Loss:     0.0505 Validation Accuracy: 0.597600\n",
      "Epoch 32, CIFAR-10 Batch 1:  Loss:     0.0345 Validation Accuracy: 0.595200\n",
      "Epoch 33, CIFAR-10 Batch 1:  Loss:     0.0291 Validation Accuracy: 0.598800\n",
      "Epoch 34, CIFAR-10 Batch 1:  Loss:     0.0242 Validation Accuracy: 0.604000\n",
      "Epoch 35, CIFAR-10 Batch 1:  Loss:     0.0181 Validation Accuracy: 0.604200\n",
      "Epoch 36, CIFAR-10 Batch 1:  Loss:     0.0285 Validation Accuracy: 0.599200\n",
      "Epoch 37, CIFAR-10 Batch 1:  Loss:     0.0193 Validation Accuracy: 0.607400\n",
      "Epoch 38, CIFAR-10 Batch 1:  Loss:     0.0170 Validation Accuracy: 0.593600\n",
      "Epoch 39, CIFAR-10 Batch 1:  Loss:     0.0208 Validation Accuracy: 0.592600\n",
      "Epoch 40, CIFAR-10 Batch 1:  Loss:     0.0171 Validation Accuracy: 0.590400\n",
      "Epoch 41, CIFAR-10 Batch 1:  Loss:     0.0066 Validation Accuracy: 0.604400\n",
      "Epoch 42, CIFAR-10 Batch 1:  Loss:     0.0143 Validation Accuracy: 0.595600\n",
      "Epoch 43, CIFAR-10 Batch 1:  Loss:     0.0152 Validation Accuracy: 0.592000\n",
      "Epoch 44, CIFAR-10 Batch 1:  Loss:     0.0205 Validation Accuracy: 0.590000\n",
      "Epoch 45, CIFAR-10 Batch 1:  Loss:     0.0206 Validation Accuracy: 0.599600\n",
      "Epoch 46, CIFAR-10 Batch 1:  Loss:     0.0074 Validation Accuracy: 0.592800\n",
      "Epoch 47, CIFAR-10 Batch 1:  Loss:     0.0086 Validation Accuracy: 0.600000\n",
      "Epoch 48, CIFAR-10 Batch 1:  Loss:     0.0046 Validation Accuracy: 0.607400\n",
      "Epoch 49, CIFAR-10 Batch 1:  Loss:     0.0095 Validation Accuracy: 0.608200\n",
      "Epoch 50, CIFAR-10 Batch 1:  Loss:     0.0057 Validation Accuracy: 0.600200\n"
     ]
    }
   ],
   "source": [
    "\"\"\"\n",
    "DON'T MODIFY ANYTHING IN THIS CELL\n",
    "\"\"\"\n",
    "print('Checking the Training on a Single Batch...')\n",
    "with tf.Session() as sess:\n",
    "    # Initializing the variables\n",
    "    sess.run(tf.global_variables_initializer())\n",
    "    \n",
    "    # Training cycle\n",
    "    for epoch in range(epochs):\n",
    "        batch_i = 1\n",
    "        for batch_features, batch_labels in helper.load_preprocess_training_batch(batch_i, batch_size):\n",
    "            train_neural_network(sess, optimizer, keep_probability, batch_features, batch_labels)\n",
    "        print('Epoch {:>2}, CIFAR-10 Batch {}:  '.format(epoch + 1, batch_i), end='')\n",
    "        print_stats(sess, batch_features, batch_labels, cost, accuracy)"
   ]
  },
  {
   "cell_type": "markdown",
   "metadata": {},
   "source": [
    "### Fully Train the Model\n",
    "Now that you got a good accuracy with a single CIFAR-10 batch, try it with all five batches."
   ]
  },
  {
   "cell_type": "code",
   "execution_count": 126,
   "metadata": {},
   "outputs": [
    {
     "name": "stdout",
     "output_type": "stream",
     "text": [
      "Training...\n",
      "Epoch  1, CIFAR-10 Batch 1:  Loss:     1.9028 Validation Accuracy: 0.381800\n",
      "Epoch  1, CIFAR-10 Batch 2:  Loss:     1.5038 Validation Accuracy: 0.463200\n",
      "Epoch  1, CIFAR-10 Batch 3:  Loss:     1.3115 Validation Accuracy: 0.499600\n",
      "Epoch  1, CIFAR-10 Batch 4:  Loss:     1.2996 Validation Accuracy: 0.526200\n",
      "Epoch  1, CIFAR-10 Batch 5:  Loss:     1.3282 Validation Accuracy: 0.543400\n",
      "Epoch  2, CIFAR-10 Batch 1:  Loss:     1.4177 Validation Accuracy: 0.552600\n",
      "Epoch  2, CIFAR-10 Batch 2:  Loss:     1.2086 Validation Accuracy: 0.562800\n",
      "Epoch  2, CIFAR-10 Batch 3:  Loss:     1.1068 Validation Accuracy: 0.573400\n",
      "Epoch  2, CIFAR-10 Batch 4:  Loss:     1.1639 Validation Accuracy: 0.579600\n",
      "Epoch  2, CIFAR-10 Batch 5:  Loss:     1.1442 Validation Accuracy: 0.593800\n",
      "Epoch  3, CIFAR-10 Batch 1:  Loss:     1.2090 Validation Accuracy: 0.606600\n",
      "Epoch  3, CIFAR-10 Batch 2:  Loss:     1.0193 Validation Accuracy: 0.609000\n",
      "Epoch  3, CIFAR-10 Batch 3:  Loss:     0.9063 Validation Accuracy: 0.621000\n",
      "Epoch  3, CIFAR-10 Batch 4:  Loss:     1.0129 Validation Accuracy: 0.621600\n",
      "Epoch  3, CIFAR-10 Batch 5:  Loss:     1.0078 Validation Accuracy: 0.602600\n",
      "Epoch  4, CIFAR-10 Batch 1:  Loss:     1.0577 Validation Accuracy: 0.622800\n",
      "Epoch  4, CIFAR-10 Batch 2:  Loss:     0.9837 Validation Accuracy: 0.609600\n",
      "Epoch  4, CIFAR-10 Batch 3:  Loss:     0.8296 Validation Accuracy: 0.630000\n",
      "Epoch  4, CIFAR-10 Batch 4:  Loss:     0.9882 Validation Accuracy: 0.632800\n",
      "Epoch  4, CIFAR-10 Batch 5:  Loss:     0.8982 Validation Accuracy: 0.641000\n",
      "Epoch  5, CIFAR-10 Batch 1:  Loss:     0.8868 Validation Accuracy: 0.632400\n",
      "Epoch  5, CIFAR-10 Batch 2:  Loss:     0.8413 Validation Accuracy: 0.631000\n",
      "Epoch  5, CIFAR-10 Batch 3:  Loss:     0.7436 Validation Accuracy: 0.647200\n",
      "Epoch  5, CIFAR-10 Batch 4:  Loss:     0.9306 Validation Accuracy: 0.639200\n",
      "Epoch  5, CIFAR-10 Batch 5:  Loss:     0.7950 Validation Accuracy: 0.652400\n",
      "Epoch  6, CIFAR-10 Batch 1:  Loss:     0.8931 Validation Accuracy: 0.652800\n",
      "Epoch  6, CIFAR-10 Batch 2:  Loss:     0.8313 Validation Accuracy: 0.654800\n",
      "Epoch  6, CIFAR-10 Batch 3:  Loss:     0.7122 Validation Accuracy: 0.652200\n",
      "Epoch  6, CIFAR-10 Batch 4:  Loss:     0.8691 Validation Accuracy: 0.656600\n",
      "Epoch  6, CIFAR-10 Batch 5:  Loss:     0.7703 Validation Accuracy: 0.650200\n",
      "Epoch  7, CIFAR-10 Batch 1:  Loss:     0.7911 Validation Accuracy: 0.657200\n",
      "Epoch  7, CIFAR-10 Batch 2:  Loss:     0.7424 Validation Accuracy: 0.664000\n",
      "Epoch  7, CIFAR-10 Batch 3:  Loss:     0.5979 Validation Accuracy: 0.667800\n",
      "Epoch  7, CIFAR-10 Batch 4:  Loss:     0.7351 Validation Accuracy: 0.670800\n",
      "Epoch  7, CIFAR-10 Batch 5:  Loss:     0.6906 Validation Accuracy: 0.664000\n",
      "Epoch  8, CIFAR-10 Batch 1:  Loss:     0.7184 Validation Accuracy: 0.661000\n",
      "Epoch  8, CIFAR-10 Batch 2:  Loss:     0.7191 Validation Accuracy: 0.678600\n",
      "Epoch  8, CIFAR-10 Batch 3:  Loss:     0.6462 Validation Accuracy: 0.672400\n",
      "Epoch  8, CIFAR-10 Batch 4:  Loss:     0.7619 Validation Accuracy: 0.666400\n",
      "Epoch  8, CIFAR-10 Batch 5:  Loss:     0.6070 Validation Accuracy: 0.680000\n",
      "Epoch  9, CIFAR-10 Batch 1:  Loss:     0.6369 Validation Accuracy: 0.672600\n",
      "Epoch  9, CIFAR-10 Batch 2:  Loss:     0.7248 Validation Accuracy: 0.677000\n",
      "Epoch  9, CIFAR-10 Batch 3:  Loss:     0.5590 Validation Accuracy: 0.680600\n",
      "Epoch  9, CIFAR-10 Batch 4:  Loss:     0.6312 Validation Accuracy: 0.667000\n",
      "Epoch  9, CIFAR-10 Batch 5:  Loss:     0.6078 Validation Accuracy: 0.670200\n",
      "Epoch 10, CIFAR-10 Batch 1:  Loss:     0.7074 Validation Accuracy: 0.656400\n",
      "Epoch 10, CIFAR-10 Batch 2:  Loss:     0.6092 Validation Accuracy: 0.670600\n",
      "Epoch 10, CIFAR-10 Batch 3:  Loss:     0.6065 Validation Accuracy: 0.677800\n",
      "Epoch 10, CIFAR-10 Batch 4:  Loss:     0.6340 Validation Accuracy: 0.669800\n",
      "Epoch 10, CIFAR-10 Batch 5:  Loss:     0.5300 Validation Accuracy: 0.671600\n",
      "Epoch 11, CIFAR-10 Batch 1:  Loss:     0.6249 Validation Accuracy: 0.673600\n",
      "Epoch 11, CIFAR-10 Batch 2:  Loss:     0.5408 Validation Accuracy: 0.680800\n",
      "Epoch 11, CIFAR-10 Batch 3:  Loss:     0.5100 Validation Accuracy: 0.675000\n",
      "Epoch 11, CIFAR-10 Batch 4:  Loss:     0.6062 Validation Accuracy: 0.670200\n",
      "Epoch 11, CIFAR-10 Batch 5:  Loss:     0.4686 Validation Accuracy: 0.668600\n",
      "Epoch 12, CIFAR-10 Batch 1:  Loss:     0.5312 Validation Accuracy: 0.678400\n",
      "Epoch 12, CIFAR-10 Batch 2:  Loss:     0.6320 Validation Accuracy: 0.683600\n",
      "Epoch 12, CIFAR-10 Batch 3:  Loss:     0.4932 Validation Accuracy: 0.684000\n",
      "Epoch 12, CIFAR-10 Batch 4:  Loss:     0.6285 Validation Accuracy: 0.677800\n",
      "Epoch 12, CIFAR-10 Batch 5:  Loss:     0.4826 Validation Accuracy: 0.675200\n",
      "Epoch 13, CIFAR-10 Batch 1:  Loss:     0.4956 Validation Accuracy: 0.682400\n",
      "Epoch 13, CIFAR-10 Batch 2:  Loss:     0.4751 Validation Accuracy: 0.679000\n",
      "Epoch 13, CIFAR-10 Batch 3:  Loss:     0.4889 Validation Accuracy: 0.674000\n",
      "Epoch 13, CIFAR-10 Batch 4:  Loss:     0.4787 Validation Accuracy: 0.678200\n",
      "Epoch 13, CIFAR-10 Batch 5:  Loss:     0.4121 Validation Accuracy: 0.680000\n",
      "Epoch 14, CIFAR-10 Batch 1:  Loss:     0.4952 Validation Accuracy: 0.672600\n",
      "Epoch 14, CIFAR-10 Batch 2:  Loss:     0.4761 Validation Accuracy: 0.675200\n",
      "Epoch 14, CIFAR-10 Batch 3:  Loss:     0.4351 Validation Accuracy: 0.682400\n",
      "Epoch 14, CIFAR-10 Batch 4:  Loss:     0.5108 Validation Accuracy: 0.682400\n",
      "Epoch 14, CIFAR-10 Batch 5:  Loss:     0.4319 Validation Accuracy: 0.684400\n",
      "Epoch 15, CIFAR-10 Batch 1:  Loss:     0.4802 Validation Accuracy: 0.681400\n",
      "Epoch 15, CIFAR-10 Batch 2:  Loss:     0.4090 Validation Accuracy: 0.691000\n",
      "Epoch 15, CIFAR-10 Batch 3:  Loss:     0.4273 Validation Accuracy: 0.678000\n",
      "Epoch 15, CIFAR-10 Batch 4:  Loss:     0.5369 Validation Accuracy: 0.676000\n",
      "Epoch 15, CIFAR-10 Batch 5:  Loss:     0.3849 Validation Accuracy: 0.679800\n",
      "Epoch 16, CIFAR-10 Batch 1:  Loss:     0.4683 Validation Accuracy: 0.689400\n",
      "Epoch 16, CIFAR-10 Batch 2:  Loss:     0.4615 Validation Accuracy: 0.679200\n",
      "Epoch 16, CIFAR-10 Batch 3:  Loss:     0.4447 Validation Accuracy: 0.679600\n",
      "Epoch 16, CIFAR-10 Batch 4:  Loss:     0.4758 Validation Accuracy: 0.682800\n",
      "Epoch 16, CIFAR-10 Batch 5:  Loss:     0.2820 Validation Accuracy: 0.685200\n",
      "Epoch 17, CIFAR-10 Batch 1:  Loss:     0.3934 Validation Accuracy: 0.682400\n",
      "Epoch 17, CIFAR-10 Batch 2:  Loss:     0.3782 Validation Accuracy: 0.688800\n",
      "Epoch 17, CIFAR-10 Batch 3:  Loss:     0.3508 Validation Accuracy: 0.687000\n",
      "Epoch 17, CIFAR-10 Batch 4:  Loss:     0.3851 Validation Accuracy: 0.672600\n",
      "Epoch 17, CIFAR-10 Batch 5:  Loss:     0.3375 Validation Accuracy: 0.670600\n",
      "Epoch 18, CIFAR-10 Batch 1:  Loss:     0.4153 Validation Accuracy: 0.683800\n",
      "Epoch 18, CIFAR-10 Batch 2:  Loss:     0.3344 Validation Accuracy: 0.690800\n",
      "Epoch 18, CIFAR-10 Batch 3:  Loss:     0.3503 Validation Accuracy: 0.680600\n",
      "Epoch 18, CIFAR-10 Batch 4:  Loss:     0.3338 Validation Accuracy: 0.682000\n",
      "Epoch 18, CIFAR-10 Batch 5:  Loss:     0.3866 Validation Accuracy: 0.679800\n",
      "Epoch 19, CIFAR-10 Batch 1:  Loss:     0.3545 Validation Accuracy: 0.696600\n",
      "Epoch 19, CIFAR-10 Batch 2:  Loss:     0.2965 Validation Accuracy: 0.676400\n",
      "Epoch 19, CIFAR-10 Batch 3:  Loss:     0.3138 Validation Accuracy: 0.683400\n",
      "Epoch 19, CIFAR-10 Batch 4:  Loss:     0.3357 Validation Accuracy: 0.688600\n",
      "Epoch 19, CIFAR-10 Batch 5:  Loss:     0.3102 Validation Accuracy: 0.694600\n",
      "Epoch 20, CIFAR-10 Batch 1:  Loss:     0.3463 Validation Accuracy: 0.688600\n",
      "Epoch 20, CIFAR-10 Batch 2:  Loss:     0.2927 Validation Accuracy: 0.690200\n",
      "Epoch 20, CIFAR-10 Batch 3:  Loss:     0.3343 Validation Accuracy: 0.676800\n",
      "Epoch 20, CIFAR-10 Batch 4:  Loss:     0.3247 Validation Accuracy: 0.693200\n",
      "Epoch 20, CIFAR-10 Batch 5:  Loss:     0.2989 Validation Accuracy: 0.691400\n",
      "Epoch 21, CIFAR-10 Batch 1:  Loss:     0.3424 Validation Accuracy: 0.692000\n",
      "Epoch 21, CIFAR-10 Batch 2:  Loss:     0.2849 Validation Accuracy: 0.678400\n",
      "Epoch 21, CIFAR-10 Batch 3:  Loss:     0.3518 Validation Accuracy: 0.670600\n",
      "Epoch 21, CIFAR-10 Batch 4:  Loss:     0.2874 Validation Accuracy: 0.686600\n",
      "Epoch 21, CIFAR-10 Batch 5:  Loss:     0.3085 Validation Accuracy: 0.691400\n",
      "Epoch 22, CIFAR-10 Batch 1:  Loss:     0.3088 Validation Accuracy: 0.690600\n",
      "Epoch 22, CIFAR-10 Batch 2:  Loss:     0.2681 Validation Accuracy: 0.688800\n",
      "Epoch 22, CIFAR-10 Batch 3:  Loss:     0.3025 Validation Accuracy: 0.682600\n"
     ]
    },
    {
     "name": "stdout",
     "output_type": "stream",
     "text": [
      "Epoch 22, CIFAR-10 Batch 4:  Loss:     0.2928 Validation Accuracy: 0.690000\n",
      "Epoch 22, CIFAR-10 Batch 5:  Loss:     0.2676 Validation Accuracy: 0.686200\n",
      "Epoch 23, CIFAR-10 Batch 1:  Loss:     0.2420 Validation Accuracy: 0.695800\n",
      "Epoch 23, CIFAR-10 Batch 2:  Loss:     0.3299 Validation Accuracy: 0.676000\n",
      "Epoch 23, CIFAR-10 Batch 3:  Loss:     0.3119 Validation Accuracy: 0.675200\n",
      "Epoch 23, CIFAR-10 Batch 4:  Loss:     0.2802 Validation Accuracy: 0.690000\n",
      "Epoch 23, CIFAR-10 Batch 5:  Loss:     0.2180 Validation Accuracy: 0.695200\n",
      "Epoch 24, CIFAR-10 Batch 1:  Loss:     0.2640 Validation Accuracy: 0.686200\n",
      "Epoch 24, CIFAR-10 Batch 2:  Loss:     0.2233 Validation Accuracy: 0.691600\n",
      "Epoch 24, CIFAR-10 Batch 3:  Loss:     0.2603 Validation Accuracy: 0.685800\n",
      "Epoch 24, CIFAR-10 Batch 4:  Loss:     0.2279 Validation Accuracy: 0.700400\n",
      "Epoch 24, CIFAR-10 Batch 5:  Loss:     0.2462 Validation Accuracy: 0.678200\n",
      "Epoch 25, CIFAR-10 Batch 1:  Loss:     0.2946 Validation Accuracy: 0.677000\n",
      "Epoch 25, CIFAR-10 Batch 2:  Loss:     0.2015 Validation Accuracy: 0.689200\n",
      "Epoch 25, CIFAR-10 Batch 3:  Loss:     0.2833 Validation Accuracy: 0.666400\n",
      "Epoch 25, CIFAR-10 Batch 4:  Loss:     0.2310 Validation Accuracy: 0.693200\n",
      "Epoch 25, CIFAR-10 Batch 5:  Loss:     0.2247 Validation Accuracy: 0.689400\n",
      "Epoch 26, CIFAR-10 Batch 1:  Loss:     0.2266 Validation Accuracy: 0.693600\n",
      "Epoch 26, CIFAR-10 Batch 2:  Loss:     0.1336 Validation Accuracy: 0.691200\n",
      "Epoch 26, CIFAR-10 Batch 3:  Loss:     0.1935 Validation Accuracy: 0.678000\n",
      "Epoch 26, CIFAR-10 Batch 4:  Loss:     0.2485 Validation Accuracy: 0.691600\n",
      "Epoch 26, CIFAR-10 Batch 5:  Loss:     0.2538 Validation Accuracy: 0.675800\n",
      "Epoch 27, CIFAR-10 Batch 1:  Loss:     0.2306 Validation Accuracy: 0.687000\n",
      "Epoch 27, CIFAR-10 Batch 2:  Loss:     0.1627 Validation Accuracy: 0.675400\n",
      "Epoch 27, CIFAR-10 Batch 3:  Loss:     0.2042 Validation Accuracy: 0.661800\n",
      "Epoch 27, CIFAR-10 Batch 4:  Loss:     0.2388 Validation Accuracy: 0.701200\n",
      "Epoch 27, CIFAR-10 Batch 5:  Loss:     0.2470 Validation Accuracy: 0.689600\n",
      "Epoch 28, CIFAR-10 Batch 1:  Loss:     0.1812 Validation Accuracy: 0.689400\n",
      "Epoch 28, CIFAR-10 Batch 2:  Loss:     0.1327 Validation Accuracy: 0.697400\n",
      "Epoch 28, CIFAR-10 Batch 3:  Loss:     0.1950 Validation Accuracy: 0.682800\n",
      "Epoch 28, CIFAR-10 Batch 4:  Loss:     0.1952 Validation Accuracy: 0.694200\n",
      "Epoch 28, CIFAR-10 Batch 5:  Loss:     0.1798 Validation Accuracy: 0.676400\n",
      "Epoch 29, CIFAR-10 Batch 1:  Loss:     0.2128 Validation Accuracy: 0.693600\n",
      "Epoch 29, CIFAR-10 Batch 2:  Loss:     0.1671 Validation Accuracy: 0.680400\n",
      "Epoch 29, CIFAR-10 Batch 3:  Loss:     0.2004 Validation Accuracy: 0.660200\n",
      "Epoch 29, CIFAR-10 Batch 4:  Loss:     0.1971 Validation Accuracy: 0.690400\n",
      "Epoch 29, CIFAR-10 Batch 5:  Loss:     0.1831 Validation Accuracy: 0.674400\n",
      "Epoch 30, CIFAR-10 Batch 1:  Loss:     0.2201 Validation Accuracy: 0.692600\n",
      "Epoch 30, CIFAR-10 Batch 2:  Loss:     0.1797 Validation Accuracy: 0.694400\n",
      "Epoch 30, CIFAR-10 Batch 3:  Loss:     0.1656 Validation Accuracy: 0.670600\n",
      "Epoch 30, CIFAR-10 Batch 4:  Loss:     0.1865 Validation Accuracy: 0.687400\n",
      "Epoch 30, CIFAR-10 Batch 5:  Loss:     0.1617 Validation Accuracy: 0.693000\n",
      "Epoch 31, CIFAR-10 Batch 1:  Loss:     0.1809 Validation Accuracy: 0.693400\n",
      "Epoch 31, CIFAR-10 Batch 2:  Loss:     0.1275 Validation Accuracy: 0.684200\n",
      "Epoch 31, CIFAR-10 Batch 3:  Loss:     0.1892 Validation Accuracy: 0.685400\n",
      "Epoch 31, CIFAR-10 Batch 4:  Loss:     0.1615 Validation Accuracy: 0.690200\n",
      "Epoch 31, CIFAR-10 Batch 5:  Loss:     0.1930 Validation Accuracy: 0.687200\n",
      "Epoch 32, CIFAR-10 Batch 1:  Loss:     0.1630 Validation Accuracy: 0.690200\n",
      "Epoch 32, CIFAR-10 Batch 2:  Loss:     0.1440 Validation Accuracy: 0.695400\n",
      "Epoch 32, CIFAR-10 Batch 3:  Loss:     0.1372 Validation Accuracy: 0.682000\n",
      "Epoch 32, CIFAR-10 Batch 4:  Loss:     0.2091 Validation Accuracy: 0.678400\n",
      "Epoch 32, CIFAR-10 Batch 5:  Loss:     0.1607 Validation Accuracy: 0.684400\n",
      "Epoch 33, CIFAR-10 Batch 1:  Loss:     0.2279 Validation Accuracy: 0.677800\n",
      "Epoch 33, CIFAR-10 Batch 2:  Loss:     0.1332 Validation Accuracy: 0.694000\n",
      "Epoch 33, CIFAR-10 Batch 3:  Loss:     0.1317 Validation Accuracy: 0.681000\n",
      "Epoch 33, CIFAR-10 Batch 4:  Loss:     0.1478 Validation Accuracy: 0.699800\n",
      "Epoch 33, CIFAR-10 Batch 5:  Loss:     0.1930 Validation Accuracy: 0.679200\n",
      "Epoch 34, CIFAR-10 Batch 1:  Loss:     0.1995 Validation Accuracy: 0.694400\n",
      "Epoch 34, CIFAR-10 Batch 2:  Loss:     0.0967 Validation Accuracy: 0.689000\n",
      "Epoch 34, CIFAR-10 Batch 3:  Loss:     0.1981 Validation Accuracy: 0.670600\n",
      "Epoch 34, CIFAR-10 Batch 4:  Loss:     0.2024 Validation Accuracy: 0.687200\n",
      "Epoch 34, CIFAR-10 Batch 5:  Loss:     0.1471 Validation Accuracy: 0.688600\n",
      "Epoch 35, CIFAR-10 Batch 1:  Loss:     0.1264 Validation Accuracy: 0.697200\n",
      "Epoch 35, CIFAR-10 Batch 2:  Loss:     0.0842 Validation Accuracy: 0.690600\n",
      "Epoch 35, CIFAR-10 Batch 3:  Loss:     0.1500 Validation Accuracy: 0.680000\n",
      "Epoch 35, CIFAR-10 Batch 4:  Loss:     0.1767 Validation Accuracy: 0.689200\n",
      "Epoch 35, CIFAR-10 Batch 5:  Loss:     0.1278 Validation Accuracy: 0.681800\n",
      "Epoch 36, CIFAR-10 Batch 1:  Loss:     0.1253 Validation Accuracy: 0.680000\n",
      "Epoch 36, CIFAR-10 Batch 2:  Loss:     0.0909 Validation Accuracy: 0.691000\n",
      "Epoch 36, CIFAR-10 Batch 3:  Loss:     0.1583 Validation Accuracy: 0.679000\n",
      "Epoch 36, CIFAR-10 Batch 4:  Loss:     0.1301 Validation Accuracy: 0.702000\n",
      "Epoch 36, CIFAR-10 Batch 5:  Loss:     0.1200 Validation Accuracy: 0.686600\n",
      "Epoch 37, CIFAR-10 Batch 1:  Loss:     0.1331 Validation Accuracy: 0.695800\n",
      "Epoch 37, CIFAR-10 Batch 2:  Loss:     0.0971 Validation Accuracy: 0.682200\n",
      "Epoch 37, CIFAR-10 Batch 3:  Loss:     0.1550 Validation Accuracy: 0.684000\n",
      "Epoch 37, CIFAR-10 Batch 4:  Loss:     0.1547 Validation Accuracy: 0.686000\n",
      "Epoch 37, CIFAR-10 Batch 5:  Loss:     0.1715 Validation Accuracy: 0.674400\n",
      "Epoch 38, CIFAR-10 Batch 1:  Loss:     0.1328 Validation Accuracy: 0.698600\n",
      "Epoch 38, CIFAR-10 Batch 2:  Loss:     0.0764 Validation Accuracy: 0.694800\n",
      "Epoch 38, CIFAR-10 Batch 3:  Loss:     0.1458 Validation Accuracy: 0.682000\n",
      "Epoch 38, CIFAR-10 Batch 4:  Loss:     0.1652 Validation Accuracy: 0.686000\n",
      "Epoch 38, CIFAR-10 Batch 5:  Loss:     0.0912 Validation Accuracy: 0.691200\n",
      "Epoch 39, CIFAR-10 Batch 1:  Loss:     0.1283 Validation Accuracy: 0.701000\n",
      "Epoch 39, CIFAR-10 Batch 2:  Loss:     0.0784 Validation Accuracy: 0.696400\n",
      "Epoch 39, CIFAR-10 Batch 3:  Loss:     0.1456 Validation Accuracy: 0.680600\n",
      "Epoch 39, CIFAR-10 Batch 4:  Loss:     0.1369 Validation Accuracy: 0.688800\n",
      "Epoch 39, CIFAR-10 Batch 5:  Loss:     0.0765 Validation Accuracy: 0.687800\n",
      "Epoch 40, CIFAR-10 Batch 1:  Loss:     0.0997 Validation Accuracy: 0.697600\n",
      "Epoch 40, CIFAR-10 Batch 2:  Loss:     0.1128 Validation Accuracy: 0.688000\n",
      "Epoch 40, CIFAR-10 Batch 3:  Loss:     0.1232 Validation Accuracy: 0.679600\n",
      "Epoch 40, CIFAR-10 Batch 4:  Loss:     0.1409 Validation Accuracy: 0.687000\n",
      "Epoch 40, CIFAR-10 Batch 5:  Loss:     0.0933 Validation Accuracy: 0.678600\n",
      "Epoch 41, CIFAR-10 Batch 1:  Loss:     0.1060 Validation Accuracy: 0.690600\n",
      "Epoch 41, CIFAR-10 Batch 2:  Loss:     0.0839 Validation Accuracy: 0.686400\n",
      "Epoch 41, CIFAR-10 Batch 3:  Loss:     0.1665 Validation Accuracy: 0.682600\n",
      "Epoch 41, CIFAR-10 Batch 4:  Loss:     0.1222 Validation Accuracy: 0.687000\n",
      "Epoch 41, CIFAR-10 Batch 5:  Loss:     0.0907 Validation Accuracy: 0.688200\n",
      "Epoch 42, CIFAR-10 Batch 1:  Loss:     0.0922 Validation Accuracy: 0.689600\n",
      "Epoch 42, CIFAR-10 Batch 2:  Loss:     0.0535 Validation Accuracy: 0.683200\n",
      "Epoch 42, CIFAR-10 Batch 3:  Loss:     0.1238 Validation Accuracy: 0.693200\n",
      "Epoch 42, CIFAR-10 Batch 4:  Loss:     0.1056 Validation Accuracy: 0.690000\n",
      "Epoch 42, CIFAR-10 Batch 5:  Loss:     0.0982 Validation Accuracy: 0.683400\n",
      "Epoch 43, CIFAR-10 Batch 1:  Loss:     0.1280 Validation Accuracy: 0.687400\n",
      "Epoch 43, CIFAR-10 Batch 2:  Loss:     0.0704 Validation Accuracy: 0.691200\n",
      "Epoch 43, CIFAR-10 Batch 3:  Loss:     0.1369 Validation Accuracy: 0.682200\n",
      "Epoch 43, CIFAR-10 Batch 4:  Loss:     0.1523 Validation Accuracy: 0.687400\n",
      "Epoch 43, CIFAR-10 Batch 5:  Loss:     0.1224 Validation Accuracy: 0.692400\n",
      "Epoch 44, CIFAR-10 Batch 1:  Loss:     0.1230 Validation Accuracy: 0.693000\n"
     ]
    },
    {
     "name": "stdout",
     "output_type": "stream",
     "text": [
      "Epoch 44, CIFAR-10 Batch 2:  Loss:     0.0473 Validation Accuracy: 0.688200\n",
      "Epoch 44, CIFAR-10 Batch 3:  Loss:     0.0934 Validation Accuracy: 0.683600\n",
      "Epoch 44, CIFAR-10 Batch 4:  Loss:     0.1011 Validation Accuracy: 0.683400\n",
      "Epoch 44, CIFAR-10 Batch 5:  Loss:     0.0672 Validation Accuracy: 0.684200\n",
      "Epoch 45, CIFAR-10 Batch 1:  Loss:     0.0761 Validation Accuracy: 0.694200\n",
      "Epoch 45, CIFAR-10 Batch 2:  Loss:     0.0490 Validation Accuracy: 0.684600\n",
      "Epoch 45, CIFAR-10 Batch 3:  Loss:     0.1245 Validation Accuracy: 0.677400\n",
      "Epoch 45, CIFAR-10 Batch 4:  Loss:     0.1174 Validation Accuracy: 0.692800\n",
      "Epoch 45, CIFAR-10 Batch 5:  Loss:     0.0890 Validation Accuracy: 0.687600\n",
      "Epoch 46, CIFAR-10 Batch 1:  Loss:     0.0851 Validation Accuracy: 0.687600\n",
      "Epoch 46, CIFAR-10 Batch 2:  Loss:     0.0512 Validation Accuracy: 0.681800\n",
      "Epoch 46, CIFAR-10 Batch 3:  Loss:     0.1287 Validation Accuracy: 0.660200\n",
      "Epoch 46, CIFAR-10 Batch 4:  Loss:     0.0731 Validation Accuracy: 0.689000\n",
      "Epoch 46, CIFAR-10 Batch 5:  Loss:     0.0527 Validation Accuracy: 0.684600\n",
      "Epoch 47, CIFAR-10 Batch 1:  Loss:     0.0830 Validation Accuracy: 0.698000\n",
      "Epoch 47, CIFAR-10 Batch 2:  Loss:     0.0376 Validation Accuracy: 0.677800\n",
      "Epoch 47, CIFAR-10 Batch 3:  Loss:     0.1305 Validation Accuracy: 0.673200\n",
      "Epoch 47, CIFAR-10 Batch 4:  Loss:     0.1280 Validation Accuracy: 0.688600\n",
      "Epoch 47, CIFAR-10 Batch 5:  Loss:     0.0608 Validation Accuracy: 0.678000\n",
      "Epoch 48, CIFAR-10 Batch 1:  Loss:     0.0861 Validation Accuracy: 0.687600\n",
      "Epoch 48, CIFAR-10 Batch 2:  Loss:     0.0586 Validation Accuracy: 0.690400\n",
      "Epoch 48, CIFAR-10 Batch 3:  Loss:     0.1114 Validation Accuracy: 0.675000\n",
      "Epoch 48, CIFAR-10 Batch 4:  Loss:     0.0987 Validation Accuracy: 0.690800\n",
      "Epoch 48, CIFAR-10 Batch 5:  Loss:     0.0714 Validation Accuracy: 0.681200\n",
      "Epoch 49, CIFAR-10 Batch 1:  Loss:     0.0973 Validation Accuracy: 0.693200\n",
      "Epoch 49, CIFAR-10 Batch 2:  Loss:     0.0402 Validation Accuracy: 0.686200\n",
      "Epoch 49, CIFAR-10 Batch 3:  Loss:     0.1360 Validation Accuracy: 0.674400\n",
      "Epoch 49, CIFAR-10 Batch 4:  Loss:     0.1231 Validation Accuracy: 0.686800\n",
      "Epoch 49, CIFAR-10 Batch 5:  Loss:     0.0646 Validation Accuracy: 0.679400\n",
      "Epoch 50, CIFAR-10 Batch 1:  Loss:     0.0919 Validation Accuracy: 0.688200\n",
      "Epoch 50, CIFAR-10 Batch 2:  Loss:     0.0453 Validation Accuracy: 0.683000\n",
      "Epoch 50, CIFAR-10 Batch 3:  Loss:     0.1065 Validation Accuracy: 0.671800\n",
      "Epoch 50, CIFAR-10 Batch 4:  Loss:     0.0772 Validation Accuracy: 0.699600\n",
      "Epoch 50, CIFAR-10 Batch 5:  Loss:     0.0587 Validation Accuracy: 0.687600\n"
     ]
    }
   ],
   "source": [
    "\"\"\"\n",
    "DON'T MODIFY ANYTHING IN THIS CELL\n",
    "\"\"\"\n",
    "save_model_path = './image_classification'\n",
    "\n",
    "print('Training...')\n",
    "with tf.Session() as sess:\n",
    "    # Initializing the variables\n",
    "    sess.run(tf.global_variables_initializer())\n",
    "    \n",
    "    # Training cycle\n",
    "    for epoch in range(epochs):\n",
    "        # Loop over all batches\n",
    "        n_batches = 5\n",
    "        for batch_i in range(1, n_batches + 1):\n",
    "            for batch_features, batch_labels in helper.load_preprocess_training_batch(batch_i, batch_size):\n",
    "                train_neural_network(sess, optimizer, keep_probability, batch_features, batch_labels)\n",
    "            print('Epoch {:>2}, CIFAR-10 Batch {}:  '.format(epoch + 1, batch_i), end='')\n",
    "            print_stats(sess, batch_features, batch_labels, cost, accuracy)\n",
    "            \n",
    "    # Save Model\n",
    "    saver = tf.train.Saver()\n",
    "    save_path = saver.save(sess, save_model_path)"
   ]
  },
  {
   "cell_type": "markdown",
   "metadata": {},
   "source": [
    "# Checkpoint\n",
    "The model has been saved to disk.\n",
    "## Test Model\n",
    "Test your model against the test dataset.  This will be your final accuracy. You should have an accuracy greater than 50%. If you don't, keep tweaking the model architecture and parameters."
   ]
  },
  {
   "cell_type": "code",
   "execution_count": 127,
   "metadata": {},
   "outputs": [
    {
     "name": "stdout",
     "output_type": "stream",
     "text": [
      "INFO:tensorflow:Restoring parameters from ./image_classification\n",
      "Testing Accuracy: 0.6879976114649682\n",
      "\n"
     ]
    },
    {
     "data": {
      "image/png": "[encoded data removed]",
      "text/plain": [
       "<matplotlib.figure.Figure at 0x7f65202d9748>"
      ]
     },
     "metadata": {
      "image/png": {
       "height": 319,
       "width": 355
      }
     },
     "output_type": "display_data"
    }
   ],
   "source": [
    "\"\"\"\n",
    "DON'T MODIFY ANYTHING IN THIS CELL\n",
    "\"\"\"\n",
    "%matplotlib inline\n",
    "%config InlineBackend.figure_format = 'retina'\n",
    "\n",
    "import tensorflow as tf\n",
    "import pickle\n",
    "import helper\n",
    "import random\n",
    "\n",
    "# Set batch size if not already set\n",
    "try:\n",
    "    if batch_size:\n",
    "        pass\n",
    "except NameError:\n",
    "    batch_size = 64\n",
    "\n",
    "save_model_path = './image_classification'\n",
    "n_samples = 4\n",
    "top_n_predictions = 3\n",
    "\n",
    "def test_model():\n",
    "    \"\"\"\n",
    "    Test the saved model against the test dataset\n",
    "    \"\"\"\n",
    "\n",
    "    test_features, test_labels = pickle.load(open('preprocess_test.p', mode='rb'))\n",
    "    loaded_graph = tf.Graph()\n",
    "\n",
    "    with tf.Session(graph=loaded_graph) as sess:\n",
    "        # Load model\n",
    "        loader = tf.train.import_meta_graph(save_model_path + '.meta')\n",
    "        loader.restore(sess, save_model_path)\n",
    "\n",
    "        # Get Tensors from loaded model\n",
    "        loaded_x = loaded_graph.get_tensor_by_name('x:0')\n",
    "        loaded_y = loaded_graph.get_tensor_by_name('y:0')\n",
    "        loaded_keep_prob = loaded_graph.get_tensor_by_name('keep_prob:0')\n",
    "        loaded_logits = loaded_graph.get_tensor_by_name('logits:0')\n",
    "        loaded_acc = loaded_graph.get_tensor_by_name('accuracy:0')\n",
    "        \n",
    "        # Get accuracy in batches for memory limitations\n",
    "        test_batch_acc_total = 0\n",
    "        test_batch_count = 0\n",
    "        \n",
    "        for test_feature_batch, test_label_batch in helper.batch_features_labels(test_features, test_labels, batch_size):\n",
    "            test_batch_acc_total += sess.run(\n",
    "                loaded_acc,\n",
    "                feed_dict={loaded_x: test_feature_batch, loaded_y: test_label_batch, loaded_keep_prob: 1.0})\n",
    "            test_batch_count += 1\n",
    "\n",
    "        print('Testing Accuracy: {}\\n'.format(test_batch_acc_total/test_batch_count))\n",
    "\n",
    "        # Print Random Samples\n",
    "        random_test_features, random_test_labels = tuple(zip(*random.sample(list(zip(test_features, test_labels)), n_samples)))\n",
    "        random_test_predictions = sess.run(\n",
    "            tf.nn.top_k(tf.nn.softmax(loaded_logits), top_n_predictions),\n",
    "            feed_dict={loaded_x: random_test_features, loaded_y: random_test_labels, loaded_keep_prob: 1.0})\n",
    "        helper.display_image_predictions(random_test_features, random_test_labels, random_test_predictions)\n",
    "\n",
    "\n",
    "test_model()"
   ]
  },
  {
   "cell_type": "markdown",
   "metadata": {},
   "source": [
    "## Why 50-80% Accuracy?\n",
    "You might be wondering why you can't get an accuracy any higher. First things first, 50% isn't bad for a simple CNN.  Pure guessing would get you 10% accuracy. However, you might notice people are getting scores [well above 80%](http://rodrigob.github.io/are_we_there_yet/build/classification_datasets_results.html#43494641522d3130).  That's because we haven't taught you all there is to know about neural networks. We still need to cover a few more techniques.\n",
    "## Submitting This Project\n",
    "When submitting this project, make sure to run all the cells before saving the notebook.  Save the notebook file as \"dlnd_image_classification.ipynb\" and save it as a HTML file under \"File\" -> \"Download as\".  Include the \"helper.py\" and \"problem_unittests.py\" files in your submission."
   ]
  },
  {
   "cell_type": "code",
   "execution_count": null,
   "metadata": {
    "collapsed": true
   },
   "outputs": [],
   "source": []
  }
 ],
 "metadata": {
  "kernelspec": {
   "display_name": "Python 3",
   "language": "python",
   "name": "python3"
  },
  "language_info": {
   "codemirror_mode": {
    "name": "ipython",
    "version": 3
   },
   "file_extension": ".py",
   "mimetype": "text/x-python",
   "name": "python",
   "nbconvert_exporter": "python",
   "pygments_lexer": "ipython3",
   "version": "3.5.4"
  }
 },
 "nbformat": 4,
 "nbformat_minor": 1
}
